{
 "cells": [
  {
   "cell_type": "markdown",
   "metadata": {},
   "source": [
    "The task implies prediction of alcohol consumption of students of math courses and portuguese language courses, finding strongest features that model depends on"
   ]
  },
  {
   "cell_type": "markdown",
   "metadata": {},
   "source": [
    "## Features description"
   ]
  },
  {
   "cell_type": "raw",
   "metadata": {},
   "source": [
    "# Attributes for both student-mat.csv (Math course) and student-por.csv (Portuguese language course) datasets: \n",
    "1 school - student's school (binary: 'GP' - Gabriel Pereira or 'MS' - Mousinho da Silveira) \n",
    "2 sex - student's sex (binary: 'F' - female or 'M' - male) \n",
    "3 age - student's age (numeric: from 15 to 22) \n",
    "4 address - student's home address type (binary: 'U' - urban or 'R' - rural) \n",
    "5 famsize - family size (binary: 'LE3' - less or equal to 3 or 'GT3' - greater than 3) \n",
    "6 Pstatus - parent's cohabitation status (binary: 'T' - living together or 'A' - apart) \n",
    "7 Medu - mother's education (numeric: 0 - none, 1 - primary education (4th grade), 2 Ã¢â‚¬â€œ 5th to 9th grade, 3 Ã¢â‚¬â€œ secondary education or 4 Ã¢â‚¬â€œ higher education) \n",
    "8 Fedu - father's education (numeric: 0 - none, 1 - primary education (4th grade), 2 Ã¢â‚¬â€œ 5th to 9th grade, 3 Ã¢â‚¬â€œ secondary education or 4 Ã¢â‚¬â€œ higher education) \n",
    "9 Mjob - mother's job (nominal: 'teacher', 'health' care related, civil 'services' (e.g. administrative or police), 'at_home' or 'other') \n",
    "10 Fjob - father's job (nominal: 'teacher', 'health' care related, civil 'services' (e.g. administrative or police), 'at_home' or 'other') \n",
    "11 reason - reason to choose this school (nominal: close to 'home', school 'reputation', 'course' preference or 'other') \n",
    "12 guardian - student's guardian (nominal: 'mother', 'father' or 'other') \n",
    "13 traveltime - home to school travel time (numeric: 1 - <15 min., 2 - 15 to 30 min., 3 - 30 min. to 1 hour, or 4 - >1 hour) \n",
    "14 studytime - weekly study time (numeric: 1 - <2 hours, 2 - 2 to 5 hours, 3 - 5 to 10 hours, or 4 - >10 hours) \n",
    "15 failures - number of past class failures (numeric: n if 1<=n<3, else 4) \n",
    "16 schoolsup - extra educational support (binary: yes or no) \n",
    "17 famsup - family educational support (binary: yes or no) \n",
    "18 paid - extra paid classes within the course subject (Math or Portuguese) (binary: yes or no) \n",
    "19 activities - extra-curricular activities (binary: yes or no) \n",
    "20 nursery - attended nursery school (binary: yes or no) \n",
    "21 higher - wants to take higher education (binary: yes or no) \n",
    "22 internet - Internet access at home (binary: yes or no) \n",
    "23 romantic - with a romantic relationship (binary: yes or no) \n",
    "24 famrel - quality of family relationships (numeric: from 1 - very bad to 5 - excellent) \n",
    "25 freetime - free time after school (numeric: from 1 - very low to 5 - very high) \n",
    "26 goout - going out with friends (numeric: from 1 - very low to 5 - very high) \n",
    "27 Dalc - workday alcohol consumption (numeric: from 1 - very low to 5 - very high) \n",
    "28 Walc - weekend alcohol consumption (numeric: from 1 - very low to 5 - very high) \n",
    "29 health - current health status (numeric: from 1 - very bad to 5 - very good) \n",
    "30 absences - number of school absences (numeric: from 0 to 93) \n",
    "\n",
    "# these grades are related with the course subject, Math or Portuguese: \n",
    "31 G1 - first period grade (numeric: from 0 to 20) \n",
    "31 G2 - second period grade (numeric: from 0 to 20) \n",
    "32 G3 - final grade (numeric: from 0 to 20, output target) "
   ]
  },
  {
   "cell_type": "code",
   "execution_count": 28,
   "metadata": {
    "collapsed": false
   },
   "outputs": [
    {
     "name": "stdout",
     "output_type": "stream",
     "text": [
      "              age        Medu        Fedu  traveltime   studytime    failures  \\\n",
      "count  395.000000  395.000000  395.000000  395.000000  395.000000  395.000000   \n",
      "mean    16.696203    2.749367    2.521519    1.448101    2.035443    0.334177   \n",
      "std      1.276043    1.094735    1.088201    0.697505    0.839240    0.743651   \n",
      "min     15.000000    0.000000    0.000000    1.000000    1.000000    0.000000   \n",
      "25%     16.000000    2.000000    2.000000    1.000000    1.000000    0.000000   \n",
      "50%     17.000000    3.000000    2.000000    1.000000    2.000000    0.000000   \n",
      "75%     18.000000    4.000000    3.000000    2.000000    2.000000    0.000000   \n",
      "max     22.000000    4.000000    4.000000    4.000000    4.000000    3.000000   \n",
      "\n",
      "           famrel    freetime       goout        Dalc        Walc      health  \\\n",
      "count  395.000000  395.000000  395.000000  395.000000  395.000000  395.000000   \n",
      "mean     3.944304    3.235443    3.108861    1.481013    2.291139    3.554430   \n",
      "std      0.896659    0.998862    1.113278    0.890741    1.287897    1.390303   \n",
      "min      1.000000    1.000000    1.000000    1.000000    1.000000    1.000000   \n",
      "25%      4.000000    3.000000    2.000000    1.000000    1.000000    3.000000   \n",
      "50%      4.000000    3.000000    3.000000    1.000000    2.000000    4.000000   \n",
      "75%      5.000000    4.000000    4.000000    2.000000    3.000000    5.000000   \n",
      "max      5.000000    5.000000    5.000000    5.000000    5.000000    5.000000   \n",
      "\n",
      "         absences          G1          G2          G3  \n",
      "count  395.000000  395.000000  395.000000  395.000000  \n",
      "mean     5.708861   10.908861   10.713924   10.415190  \n",
      "std      8.003096    3.319195    3.761505    4.581443  \n",
      "min      0.000000    3.000000    0.000000    0.000000  \n",
      "25%      0.000000    8.000000    9.000000    8.000000  \n",
      "50%      4.000000   11.000000   11.000000   11.000000  \n",
      "75%      8.000000   13.000000   13.000000   14.000000  \n",
      "max     75.000000   19.000000   19.000000   20.000000  \n",
      "              age        Medu        Fedu  traveltime   studytime    failures  \\\n",
      "count  649.000000  649.000000  649.000000  649.000000  649.000000  649.000000   \n",
      "mean    16.744222    2.514638    2.306626    1.568567    1.930663    0.221880   \n",
      "std      1.218138    1.134552    1.099931    0.748660    0.829510    0.593235   \n",
      "min     15.000000    0.000000    0.000000    1.000000    1.000000    0.000000   \n",
      "25%     16.000000    2.000000    1.000000    1.000000    1.000000    0.000000   \n",
      "50%     17.000000    2.000000    2.000000    1.000000    2.000000    0.000000   \n",
      "75%     18.000000    4.000000    3.000000    2.000000    2.000000    0.000000   \n",
      "max     22.000000    4.000000    4.000000    4.000000    4.000000    3.000000   \n",
      "\n",
      "           famrel    freetime       goout        Dalc        Walc      health  \\\n",
      "count  649.000000  649.000000  649.000000  649.000000  649.000000  649.000000   \n",
      "mean     3.930663    3.180277    3.184900    1.502311    2.280431    3.536210   \n",
      "std      0.955717    1.051093    1.175766    0.924834    1.284380    1.446259   \n",
      "min      1.000000    1.000000    1.000000    1.000000    1.000000    1.000000   \n",
      "25%      4.000000    3.000000    2.000000    1.000000    1.000000    2.000000   \n",
      "50%      4.000000    3.000000    3.000000    1.000000    2.000000    4.000000   \n",
      "75%      5.000000    4.000000    4.000000    2.000000    3.000000    5.000000   \n",
      "max      5.000000    5.000000    5.000000    5.000000    5.000000    5.000000   \n",
      "\n",
      "         absences          G1          G2          G3  \n",
      "count  649.000000  649.000000  649.000000  649.000000  \n",
      "mean     3.659476   11.399076   11.570108   11.906009  \n",
      "std      4.640759    2.745265    2.913639    3.230656  \n",
      "min      0.000000    0.000000    0.000000    0.000000  \n",
      "25%      0.000000   10.000000   10.000000   10.000000  \n",
      "50%      2.000000   11.000000   11.000000   12.000000  \n",
      "75%      6.000000   13.000000   13.000000   14.000000  \n",
      "max     32.000000   19.000000   19.000000   19.000000  \n"
     ]
    }
   ],
   "source": [
    "import numpy as np\n",
    "import pandas as pd\n",
    "import warnings\n",
    "warnings.filterwarnings('ignore')\n",
    "\n",
    "from sklearn.metrics import accuracy_score\n",
    "from sklearn.model_selection import StratifiedKFold\n",
    "from sklearn.cross_validation import train_test_split\n",
    "%matplotlib inline\n",
    "import matplotlib.pyplot as plt\n",
    "\n",
    "\n",
    "data_mat = pd.read_csv('student-mat.csv', sep=';')\n",
    "data_por = pd.read_csv('student-por.csv', sep=';')\n",
    "\n",
    "print(data_mat.describe())\n",
    "print(data_por.describe())"
   ]
  },
  {
   "cell_type": "code",
   "execution_count": 29,
   "metadata": {
    "collapsed": false
   },
   "outputs": [
    {
     "name": "stdout",
     "output_type": "stream",
     "text": [
      "Missing values in data_mat:  school          0\n",
      "sex             0\n",
      "age             0\n",
      "address         0\n",
      "famsize         0\n",
      "Pstatus         0\n",
      "Medu            0\n",
      "Fedu            0\n",
      "Mjob            0\n",
      "Fjob            0\n",
      "reason          0\n",
      "guardian_x      0\n",
      "traveltime_x    0\n",
      "studytime_x     0\n",
      "failures_x      0\n",
      "schoolsup_x     0\n",
      "famsup_x        0\n",
      "paid_x          0\n",
      "activities_x    0\n",
      "nursery         0\n",
      "higher_x        0\n",
      "internet        0\n",
      "romantic_x      0\n",
      "famrel_x        0\n",
      "freetime_x      0\n",
      "goout_x         0\n",
      "Dalc_x          0\n",
      "Walc_x          0\n",
      "health_x        0\n",
      "absences_x      0\n",
      "G1_x            0\n",
      "G2_x            0\n",
      "G3_x            0\n",
      "guardian_y      0\n",
      "traveltime_y    0\n",
      "studytime_y     0\n",
      "failures_y      0\n",
      "schoolsup_y     0\n",
      "famsup_y        0\n",
      "paid_y          0\n",
      "activities_y    0\n",
      "higher_y        0\n",
      "romantic_y      0\n",
      "famrel_y        0\n",
      "freetime_y      0\n",
      "goout_y         0\n",
      "Dalc_y          0\n",
      "Walc_y          0\n",
      "health_y        0\n",
      "absences_y      0\n",
      "G1_y            0\n",
      "G2_y            0\n",
      "G3_y            0\n",
      "dtype: int64\n"
     ]
    }
   ],
   "source": [
    "data_all = pd.merge(data_mat, data_por, \n",
    "             on=[\"school\",\"sex\",\"age\",\n",
    "                 \"address\",\"famsize\",\"Pstatus\",\n",
    "                 \"Medu\",\"Fedu\",\"Mjob\",\"Fjob\",\n",
    "                 \"reason\",\"nursery\",\"internet\"]\n",
    "                )\n",
    "print('Missing values in data_mat: ', data_all.isnull().sum())"
   ]
  },
  {
   "cell_type": "code",
   "execution_count": 31,
   "metadata": {
    "collapsed": false
   },
   "outputs": [
    {
     "name": "stdout",
     "output_type": "stream",
     "text": [
      "Count of instances with Medu == 4 in dataset:\n",
      " 175\n",
      "['school' 'sex' 'age' 'address' 'famsize' 'Pstatus' 'Medu' 'Fedu' 'Mjob'\n",
      " 'Fjob' 'reason' 'guardian_x' 'traveltime_x' 'studytime_x' 'failures_x'\n",
      " 'schoolsup_x' 'famsup_x' 'paid_x' 'activities_x' 'nursery' 'higher_x'\n",
      " 'internet' 'romantic_x' 'famrel_x' 'freetime_x' 'goout_x' 'Dalc_x'\n",
      " 'Walc_x' 'health_x' 'absences_x' 'G1_x' 'G2_x' 'G3_x' 'guardian_y'\n",
      " 'traveltime_y' 'studytime_y' 'failures_y' 'schoolsup_y' 'famsup_y'\n",
      " 'paid_y' 'activities_y' 'higher_y' 'romantic_y' 'famrel_y' 'freetime_y'\n",
      " 'goout_y' 'Dalc_y' 'Walc_y' 'health_y' 'absences_y' 'G1_y' 'G2_y' 'G3_y']\n"
     ]
    }
   ],
   "source": [
    "print('Count of instances with Medu == 4 in dataset:\\n',\n",
    "      len(data_por[data_por.Medu == 4])) \n",
    "print(data_all.columns.values)"
   ]
  },
  {
   "cell_type": "code",
   "execution_count": 32,
   "metadata": {
    "collapsed": false
   },
   "outputs": [
    {
     "data": {
      "text/html": [
       "<div>\n",
       "<table border=\"1\" class=\"dataframe\">\n",
       "  <thead>\n",
       "    <tr style=\"text-align: right;\">\n",
       "      <th></th>\n",
       "      <th>famsup_y</th>\n",
       "      <th>health_x</th>\n",
       "      <th>nursery</th>\n",
       "      <th>famsize</th>\n",
       "      <th>sex</th>\n",
       "      <th>paid_y</th>\n",
       "      <th>G3_y</th>\n",
       "      <th>Pstatus</th>\n",
       "      <th>absences_y</th>\n",
       "      <th>traveltime_x</th>\n",
       "      <th>...</th>\n",
       "      <th>reason_course</th>\n",
       "      <th>reason_home</th>\n",
       "      <th>reason_other</th>\n",
       "      <th>reason_reputation</th>\n",
       "      <th>guardian_x_father</th>\n",
       "      <th>guardian_x_mother</th>\n",
       "      <th>guardian_x_other</th>\n",
       "      <th>guardian_y_father</th>\n",
       "      <th>guardian_y_mother</th>\n",
       "      <th>guardian_y_other</th>\n",
       "    </tr>\n",
       "  </thead>\n",
       "  <tbody>\n",
       "    <tr>\n",
       "      <th>0</th>\n",
       "      <td>no</td>\n",
       "      <td>3</td>\n",
       "      <td>yes</td>\n",
       "      <td>GT3</td>\n",
       "      <td>F</td>\n",
       "      <td>no</td>\n",
       "      <td>11</td>\n",
       "      <td>A</td>\n",
       "      <td>4</td>\n",
       "      <td>2</td>\n",
       "      <td>...</td>\n",
       "      <td>1.0</td>\n",
       "      <td>0.0</td>\n",
       "      <td>0.0</td>\n",
       "      <td>0.0</td>\n",
       "      <td>0.0</td>\n",
       "      <td>1.0</td>\n",
       "      <td>0.0</td>\n",
       "      <td>0.0</td>\n",
       "      <td>1.0</td>\n",
       "      <td>0.0</td>\n",
       "    </tr>\n",
       "    <tr>\n",
       "      <th>1</th>\n",
       "      <td>yes</td>\n",
       "      <td>3</td>\n",
       "      <td>no</td>\n",
       "      <td>GT3</td>\n",
       "      <td>F</td>\n",
       "      <td>no</td>\n",
       "      <td>11</td>\n",
       "      <td>T</td>\n",
       "      <td>2</td>\n",
       "      <td>1</td>\n",
       "      <td>...</td>\n",
       "      <td>1.0</td>\n",
       "      <td>0.0</td>\n",
       "      <td>0.0</td>\n",
       "      <td>0.0</td>\n",
       "      <td>1.0</td>\n",
       "      <td>0.0</td>\n",
       "      <td>0.0</td>\n",
       "      <td>1.0</td>\n",
       "      <td>0.0</td>\n",
       "      <td>0.0</td>\n",
       "    </tr>\n",
       "    <tr>\n",
       "      <th>2</th>\n",
       "      <td>no</td>\n",
       "      <td>3</td>\n",
       "      <td>yes</td>\n",
       "      <td>LE3</td>\n",
       "      <td>F</td>\n",
       "      <td>no</td>\n",
       "      <td>12</td>\n",
       "      <td>T</td>\n",
       "      <td>6</td>\n",
       "      <td>1</td>\n",
       "      <td>...</td>\n",
       "      <td>0.0</td>\n",
       "      <td>0.0</td>\n",
       "      <td>1.0</td>\n",
       "      <td>0.0</td>\n",
       "      <td>0.0</td>\n",
       "      <td>1.0</td>\n",
       "      <td>0.0</td>\n",
       "      <td>0.0</td>\n",
       "      <td>1.0</td>\n",
       "      <td>0.0</td>\n",
       "    </tr>\n",
       "    <tr>\n",
       "      <th>3</th>\n",
       "      <td>yes</td>\n",
       "      <td>5</td>\n",
       "      <td>yes</td>\n",
       "      <td>GT3</td>\n",
       "      <td>F</td>\n",
       "      <td>no</td>\n",
       "      <td>14</td>\n",
       "      <td>T</td>\n",
       "      <td>0</td>\n",
       "      <td>1</td>\n",
       "      <td>...</td>\n",
       "      <td>0.0</td>\n",
       "      <td>1.0</td>\n",
       "      <td>0.0</td>\n",
       "      <td>0.0</td>\n",
       "      <td>0.0</td>\n",
       "      <td>1.0</td>\n",
       "      <td>0.0</td>\n",
       "      <td>0.0</td>\n",
       "      <td>1.0</td>\n",
       "      <td>0.0</td>\n",
       "    </tr>\n",
       "    <tr>\n",
       "      <th>4</th>\n",
       "      <td>yes</td>\n",
       "      <td>5</td>\n",
       "      <td>yes</td>\n",
       "      <td>GT3</td>\n",
       "      <td>F</td>\n",
       "      <td>no</td>\n",
       "      <td>13</td>\n",
       "      <td>T</td>\n",
       "      <td>0</td>\n",
       "      <td>1</td>\n",
       "      <td>...</td>\n",
       "      <td>0.0</td>\n",
       "      <td>1.0</td>\n",
       "      <td>0.0</td>\n",
       "      <td>0.0</td>\n",
       "      <td>1.0</td>\n",
       "      <td>0.0</td>\n",
       "      <td>0.0</td>\n",
       "      <td>1.0</td>\n",
       "      <td>0.0</td>\n",
       "      <td>0.0</td>\n",
       "    </tr>\n",
       "  </tbody>\n",
       "</table>\n",
       "<p>5 rows × 68 columns</p>\n",
       "</div>"
      ],
      "text/plain": [
       "  famsup_y  health_x nursery famsize sex paid_y  G3_y Pstatus  absences_y  \\\n",
       "0       no         3     yes     GT3   F     no    11       A           4   \n",
       "1      yes         3      no     GT3   F     no    11       T           2   \n",
       "2       no         3     yes     LE3   F     no    12       T           6   \n",
       "3      yes         5     yes     GT3   F     no    14       T           0   \n",
       "4      yes         5     yes     GT3   F     no    13       T           0   \n",
       "\n",
       "   traveltime_x        ...        reason_course  reason_home  reason_other  \\\n",
       "0             2        ...                  1.0          0.0           0.0   \n",
       "1             1        ...                  1.0          0.0           0.0   \n",
       "2             1        ...                  0.0          0.0           1.0   \n",
       "3             1        ...                  0.0          1.0           0.0   \n",
       "4             1        ...                  0.0          1.0           0.0   \n",
       "\n",
       "   reason_reputation  guardian_x_father guardian_x_mother  guardian_x_other  \\\n",
       "0                0.0                0.0               1.0               0.0   \n",
       "1                0.0                1.0               0.0               0.0   \n",
       "2                0.0                0.0               1.0               0.0   \n",
       "3                0.0                0.0               1.0               0.0   \n",
       "4                0.0                1.0               0.0               0.0   \n",
       "\n",
       "  guardian_y_father guardian_y_mother  guardian_y_other  \n",
       "0               0.0               1.0               0.0  \n",
       "1               1.0               0.0               0.0  \n",
       "2               0.0               1.0               0.0  \n",
       "3               0.0               1.0               0.0  \n",
       "4               1.0               0.0               0.0  \n",
       "\n",
       "[5 rows x 68 columns]"
      ]
     },
     "execution_count": 32,
     "metadata": {},
     "output_type": "execute_result"
    }
   ],
   "source": [
    "# getting nominal attributes\n",
    "nominal_attrs = ['Mjob', 'Fjob', 'reason', 'guardian_x', 'guardian_y'] \n",
    "columns = data_all.columns.values\n",
    "nominal_binarized = pd.get_dummies(data_all[nominal_attrs])\n",
    "\n",
    "data_all = data_all[list(set(columns) - set(nominal_attrs))]\n",
    "data_all = pd.concat([data_all, nominal_binarized], axis=1)\n",
    "data_all.head()"
   ]
  },
  {
   "cell_type": "code",
   "execution_count": 33,
   "metadata": {
    "collapsed": false
   },
   "outputs": [],
   "source": [
    "RANDOM_SEED = 1995"
   ]
  },
  {
   "cell_type": "code",
   "execution_count": 34,
   "metadata": {
    "collapsed": false
   },
   "outputs": [],
   "source": [
    "\"\"\" \n",
    "Calculating Alc attribute to find out whether the student is alcoholic or not according to article\n",
    "\n",
    "In case same students from Por and Mat classes provided different answers on alcohol consumption - \n",
    "Walc and Dalc - depending on class, average is calculated and used\n",
    "\"\"\"\n",
    "\n",
    "def get_alc(Dalc_X, Walc_X, Dalc_Y, Walc_Y):\n",
    "    if Dalc_X.any() == Dalc_Y.any() and Walc_X.any() == Walc_Y.any():\n",
    "        alc_numeric = (Walc_X*2 + Dalc_X*5)/7 > 3\n",
    "    else:\n",
    "        Dalc = 0.5*(Dalc_X + Dalc_Y)\n",
    "        Walc = 0.5*(Walc_X + Walc_Y)\n",
    "        alc_numeric = (Walc*2 + Dalc*5)/7 > 3\n",
    "    return alc_numeric.astype(int)\n",
    "\n",
    "alc = pd.DataFrame(get_alc(\n",
    "        data_all.Dalc_x, \n",
    "        data_all.Walc_x, \n",
    "        data_all.Dalc_y, \n",
    "        data_all.Walc_y), \n",
    "    columns=['Alc'])\n",
    "data_all = pd.concat([data_all, alc], axis=1)\n",
    "\n",
    "\n",
    "replace_dict = {'yes' : 1, 'no' : 0, \n",
    "                'F' : 0, 'M': 1, \n",
    "                'U': 0, 'R' : 1, \n",
    "                'MS': 0, 'GP' : 1,\n",
    "                'LE3' : 0, 'GT3' : 1, \n",
    "                'T' : 0, 'A' : 1}\n",
    "data_all = data_all.replace(replace_dict)\n",
    "\n",
    "\"\"\"\n",
    "Now let's delete Walc and Dalc features as they are completely correlated \n",
    "with Alc feature. Not too smart to predict Alc feature with knowledge how much \n",
    "students drink\n",
    "\"\"\"\n",
    "\n",
    "data_all = data_all.drop(['Dalc_x', 'Dalc_y', 'Walc_x', 'Walc_y'], axis=1)"
   ]
  },
  {
   "cell_type": "code",
   "execution_count": 35,
   "metadata": {
    "collapsed": false
   },
   "outputs": [
    {
     "name": "stdout",
     "output_type": "stream",
     "text": [
      "(318, 64) (64, 64)\n",
      "(318, 64) (64, 64)\n",
      "(318, 64) (64, 64)\n",
      "(318, 64) (64, 64)\n",
      "(319, 64) (63, 64)\n",
      "(319, 64) (63, 64)\n",
      "(318, 64) (64, 64)\n",
      "(318, 64) (64, 64)\n",
      "(318, 64) (64, 64)\n",
      "(318, 64) (64, 64)\n",
      "(319, 64) (63, 64)\n",
      "(319, 64) (63, 64)\n"
     ]
    }
   ],
   "source": [
    "from sklearn.model_selection import StratifiedKFold\n",
    "from sklearn.cross_validation import StratifiedKFold as StratifiedKFold1\n",
    "\n",
    "train, test = train_test_split(data_all, test_size=0.2, random_state=RANDOM_SEED)\n",
    "train_y = train.Alc\n",
    "train_X = train[list(set(train.columns.values) - set(['Alc']))]\n",
    "test_y = test.Alc\n",
    "test_X = test[list(set(test.columns.values) - set(['Alc']))]\n",
    "\n",
    "skf = StratifiedKFold(n_splits=6, shuffle=True)\n",
    "X = data_all.drop(['Alc'], axis=1)\n",
    "y = data_all.Alc\n",
    "for train_indices, test_indices in skf.split(X, y):\n",
    "    X_train, y_train = X.ix[train_indices, :], y.ix[train_indices]\n",
    "    X_test, y_test = X.ix[test_indices, :], y.ix[test_indices]\n",
    "    print(X_train.shape, X_test.shape)\n",
    "    \n",
    "skf = StratifiedKFold1(y, n_folds=6)\n",
    "for train_indices, test_indices in skf:\n",
    "    X_train, y_train = X.ix[train_indices, :], y.ix[train_indices]\n",
    "    X_test, y_test = X.ix[test_indices, :], y.ix[test_indices]\n",
    "    print(X_train.shape, X_test.shape)"
   ]
  },
  {
   "cell_type": "markdown",
   "metadata": {},
   "source": [
    "Inconsistency in sample numbers causes errors when training and fitting data, thus will be not used further"
   ]
  },
  {
   "cell_type": "markdown",
   "metadata": {},
   "source": [
    "# Random Forest"
   ]
  },
  {
   "cell_type": "code",
   "execution_count": 80,
   "metadata": {
    "collapsed": false,
    "scrolled": true
   },
   "outputs": [
    {
     "name": "stdout",
     "output_type": "stream",
     "text": [
      "0.915 (+/-0.0162) for {'n_estimators': 2, 'max_depth': 2, 'criterion': 'gini'}\n",
      "Accuracy =  0.896103896104\n",
      "0.915 (+/-0.0117) for {'n_estimators': 5, 'max_depth': 2, 'criterion': 'gini'}\n",
      "Accuracy =  0.896103896104\n",
      "0.915 (+/-0.0117) for {'n_estimators': 10, 'max_depth': 2, 'criterion': 'gini'}\n",
      "Accuracy =  0.896103896104\n",
      "0.915 (+/-0.0117) for {'n_estimators': 20, 'max_depth': 2, 'criterion': 'gini'}\n",
      "Accuracy =  0.896103896104\n",
      "0.915 (+/-0.0541) for {'n_estimators': 2, 'max_depth': 5, 'criterion': 'gini'}\n",
      "Accuracy =  0.844155844156\n"
     ]
    }
   ],
   "source": [
    "from sklearn.ensemble import RandomForestClassifier as RFC\n",
    "from sklearn.model_selection import GridSearchCV\n",
    "\n",
    "tuned_parameters = [{'n_estimators': [2, 5, 10, 20], \n",
    "                     'criterion': ['gini', 'entropy'],\n",
    "                     'max_depth' : [2, 5, 10, None]}]\n",
    "\n",
    "clf = GridSearchCV(RFC(n_jobs=-1), tuned_parameters, cv=5)\n",
    "clf.fit(train_X, train_y)\n",
    "print(\"Best parameters set found on development set:\\n\")\n",
    "print(clf.best_params_, '\\n')\n",
    "print(\"Grid scores on development set:\\n\")\n",
    "print(\"Grid scores on development set:\")\n",
    "means = sorted(clf.cv_results_['mean_test_score'], reverse=True)\n",
    "stds = clf.cv_results_['std_test_score']\n",
    "\n",
    "\n",
    "# Getting top 5 parameters\n",
    "for mean, std, params in zip(means[:5], stds, clf.cv_results_['params']):\n",
    "    print(\"%0.3f (+/-%0.04f) for %r\" %(mean, std * 2, params))\n",
    "    rfc = RFC(n_jobs=-1, \n",
    "              n_estimators=params.get('n_estimators'), \n",
    "              criterion=params.get('criterion'), \n",
    "              max_depth=params.get('max_depth'))\n",
    "    rfc.fit(train_X, train_y)\n",
    "    print('Accuracy = ', accuracy_score(rfc.predict(test_X), test_y))"
   ]
  },
  {
   "cell_type": "code",
   "execution_count": 78,
   "metadata": {
    "collapsed": false
   },
   "outputs": [
    {
     "name": "stdout",
     "output_type": "stream",
     "text": [
      "Attribute ranking:\n",
      "1. feature absences_y (0.143616)\n",
      "2. feature sex (0.115532)\n",
      "3. feature G1_x (0.091138)\n",
      "4. feature G3_x (0.090865)\n",
      "5. feature Medu (0.074625)\n",
      "6. feature Fedu (0.059896)\n",
      "7. feature absences_x (0.059896)\n",
      "8. feature goout_x (0.056035)\n",
      "9. feature Mjob_teacher (0.049466)\n",
      "10. feature G3_y (0.037004)\n",
      "11. feature traveltime_y (0.031318)\n",
      "12. feature reason_other (0.030081)\n",
      "13. feature freetime_y (0.029948)\n",
      "14. feature romantic_y (0.027830)\n",
      "15. feature paid_y (0.025790)\n",
      "16. feature reason_reputation (0.024239)\n",
      "17. feature studytime_x (0.021900)\n",
      "18. feature studytime_y (0.016113)\n",
      "19. feature famrel_y (0.008957)\n",
      "20. feature activities_y (0.004326)\n",
      "21. feature Fjob_services (0.001047)\n",
      "22. feature freetime_x (0.000379)\n"
     ]
    },
    {
     "data": {
      "image/png": "[encoded data removed]",
      "text/plain": [
       "<matplotlib.figure.Figure at 0xdf7db04438>"
      ]
     },
     "metadata": {},
     "output_type": "display_data"
    }
   ],
   "source": [
    "importances = rfc.feature_importances_\n",
    "std = np.std([tree.feature_importances_ for tree in rfc.estimators_],\n",
    "             axis=0)\n",
    "indices = np.argsort(importances)[::-1]\n",
    "\n",
    "print(\"Attribute ranking:\")\n",
    "\n",
    "\"\"\"\n",
    "Taking only those features that matter => importance > 0\n",
    "\"\"\"\n",
    "for f in range(train_X.shape[1]):\n",
    "    if importances[indices[f]] > 0:\n",
    "        print(\"%d. feature %s (%f)\" \n",
    "              % (f + 1, \n",
    "                 train_X.columns.values[indices[f]], \n",
    "                 importances[indices[f]]))\n",
    "\n",
    "\n",
    "plt.figure(figsize=(10,7))\n",
    "plt.title(\"Feature importances\")\n",
    "plt.bar(range(train_X.shape[1]), importances[indices],\n",
    "       color=\"r\", yerr=std[indices], align=\"center\")\n",
    "plt.xticks(range(train_X.shape[1]), indices)\n",
    "plt.xlim([-1, train_X.shape[1]])\n",
    "plt.show()"
   ]
  },
  {
   "cell_type": "markdown",
   "metadata": {},
   "source": [
    "# GradientBoostingClassifier\n"
   ]
  },
  {
   "cell_type": "code",
   "execution_count": 92,
   "metadata": {
    "collapsed": false
   },
   "outputs": [
    {
     "name": "stdout",
     "output_type": "stream",
     "text": [
      "Best parameters set found on development set:\n",
      "\n",
      "{'n_estimators': 100, 'loss': 'exponential', 'presort': True, 'criterion': 'mae'} \n",
      "\n",
      "Grid scores on development set:\n",
      "\n",
      "Grid scores on development set:\n",
      "0.911 (+/-0.0254) for {'n_estimators': 100, 'loss': 'deviance', 'presort': True, 'criterion': 'friedman_mse'}\n",
      "Accuracy =  0.896103896104\n",
      "0.911 (+/-0.0208) for {'n_estimators': 100, 'loss': 'deviance', 'presort': False, 'criterion': 'friedman_mse'}\n",
      "Accuracy =  0.896103896104\n",
      "0.908 (+/-0.0114) for {'n_estimators': 150, 'loss': 'deviance', 'presort': True, 'criterion': 'friedman_mse'}\n",
      "Accuracy =  0.896103896104\n",
      "0.908 (+/-0.0219) for {'n_estimators': 150, 'loss': 'deviance', 'presort': False, 'criterion': 'friedman_mse'}\n",
      "Accuracy =  0.896103896104\n",
      "0.908 (+/-0.0327) for {'n_estimators': 200, 'loss': 'deviance', 'presort': True, 'criterion': 'friedman_mse'}\n",
      "Accuracy =  0.883116883117\n"
     ]
    }
   ],
   "source": [
    "from sklearn.ensemble import GradientBoostingClassifier as GBC\n",
    "\n",
    "tuned_parameters = [{'loss': ['deviance', 'exponential'], \n",
    "                     'presort' : [True, False],\n",
    "                     'criterion' : ['friedman_mse', 'mae'],\n",
    "                     'n_estimators' : [100, 150, 200]}]\n",
    "\n",
    "clf = GridSearchCV(GBC(), tuned_parameters, cv=5)\n",
    "clf.fit(train_X, train_y)\n",
    "print(\"Best parameters set found on development set:\\n\")\n",
    "print(clf.best_params_, '\\n')\n",
    "print(\"Grid scores on development set:\\n\")\n",
    "print(\"Grid scores on development set:\")\n",
    "means = sorted(clf.cv_results_['mean_test_score'], reverse=True)\n",
    "stds = clf.cv_results_['std_test_score']\n",
    "\n",
    "\n",
    "# Getting top 5 parameters\n",
    "for mean, std, params in zip(means[:5], stds, clf.cv_results_['params']):\n",
    "    print(\"%0.3f (+/-%0.04f) for %r\" %(mean, std * 2, params))\n",
    "    gbc = GBC(loss=params.get('loss'),\n",
    "              presort=params.get('presort'),\n",
    "              criterion=params.get('criterion'),\n",
    "              n_estimators=params.get('n_estimators')) \n",
    "    gbc.fit(train_X, train_y)\n",
    "    print('Accuracy = ', accuracy_score(gbc.predict(test_X), test_y))"
   ]
  },
  {
   "cell_type": "code",
   "execution_count": 147,
   "metadata": {
    "collapsed": false
   },
   "outputs": [
    {
     "name": "stdout",
     "output_type": "stream",
     "text": [
      "Attribute ranking:\n",
      "1. feature absences_y (0.083496)\n",
      "2. feature G1_y (0.080789)\n",
      "3. feature G2_x (0.065690)\n",
      "4. feature G2_y (0.048621)\n",
      "5. feature nursery (0.038163)\n",
      "6. feature reason_other (0.037790)\n",
      "7. feature Mjob_teacher (0.034638)\n",
      "8. feature G3_y (0.034250)\n",
      "9. feature Medu (0.033301)\n",
      "10. feature absences_x (0.031989)\n",
      "11. feature G3_x (0.030042)\n",
      "12. feature freetime_y (0.027048)\n",
      "13. feature activities_y (0.026817)\n",
      "14. feature goout_y (0.026167)\n",
      "15. feature famsize (0.025802)\n",
      "16. feature reason_home (0.025555)\n",
      "17. feature G1_x (0.024771)\n",
      "18. feature famrel_y (0.024389)\n",
      "19. feature health_y (0.023082)\n",
      "20. feature Fjob_services (0.023042)\n",
      "21. feature sex (0.020061)\n",
      "22. feature famsup_y (0.017905)\n",
      "23. feature Fjob_other (0.014864)\n",
      "24. feature failures_y (0.014715)\n",
      "25. feature failures_x (0.014057)\n",
      "26. feature address (0.013958)\n",
      "27. feature paid_y (0.012591)\n",
      "28. feature famrel_x (0.011222)\n",
      "29. feature famsup_x (0.011115)\n",
      "30. feature Pstatus (0.010768)\n",
      "31. feature school (0.010425)\n",
      "32. feature goout_x (0.010376)\n",
      "33. feature freetime_x (0.008737)\n",
      "34. feature traveltime_y (0.008707)\n",
      "35. feature health_x (0.008346)\n",
      "36. feature paid_x (0.008084)\n",
      "37. feature traveltime_x (0.007435)\n",
      "38. feature Fedu (0.005992)\n",
      "39. feature studytime_y (0.005321)\n",
      "40. feature age (0.005208)\n",
      "41. feature reason_reputation (0.004892)\n",
      "42. feature guardian_y_father (0.004682)\n",
      "43. feature guardian_y_mother (0.004372)\n",
      "44. feature Mjob_services (0.003282)\n",
      "45. feature Mjob_other (0.002964)\n",
      "46. feature activities_x (0.002576)\n",
      "47. feature guardian_x_mother (0.002532)\n",
      "48. feature guardian_x_other (0.002390)\n",
      "49. feature Fjob_health (0.001833)\n",
      "50. feature guardian_y_other (0.001462)\n",
      "51. feature studytime_x (0.001175)\n",
      "52. feature schoolsup_x (0.000663)\n",
      "53. feature romantic_y (0.000554)\n",
      "54. feature romantic_x (0.000518)\n",
      "55. feature higher_x (0.000309)\n",
      "56. feature guardian_x_father (0.000277)\n",
      "57. feature higher_y (0.000190)\n"
     ]
    },
    {
     "data": {
      "image/png": "[encoded data removed]",
      "text/plain": [
       "<matplotlib.figure.Figure at 0xdf7db1a240>"
      ]
     },
     "metadata": {},
     "output_type": "display_data"
    }
   ],
   "source": [
    "importances = gbc.feature_importances_\n",
    "estimators = list(gbc.estimators_[0])\n",
    "std = np.std([tr.feature_importances_ for tr in estimators],\n",
    "             axis=0)\n",
    "indices = np.argsort(importances)[::-1]\n",
    "print(\"Attribute ranking:\")\n",
    "\n",
    "for f in range(train_X.shape[1]):\n",
    "    if importances[indices[f]] > 0:\n",
    "        print(\"%d. feature %s (%f)\" \n",
    "              % (f + 1, \n",
    "                 train_X.columns.values[indices[f]], \n",
    "                 importances[indices[f]]))\n",
    "\n",
    "\n",
    "plt.figure(figsize=(10,7))\n",
    "plt.title(\"Feature importances\")\n",
    "plt.bar(range(train_X.shape[1]), importances[indices],\n",
    "       color=\"r\", yerr=std[indices], align=\"center\")\n",
    "plt.xticks(range(train_X.shape[1]), indices)\n",
    "plt.xlim([-1, train_X.shape[1]])\n",
    "plt.show()"
   ]
  },
  {
   "cell_type": "markdown",
   "metadata": {},
   "source": [
    "Importance tables for different features differ. Main difference - GB incorporates all features, when RF uses only 22.\n",
    "\n",
    "This may be caused by GB using \"weak\" learning models. Boosting minimizes error by minimizing bias, and gives each model its small role. It means that all features are used even with very small coefficients. From another point of view, random forest creates each tree as independent and uncorrelated as possible, thus these trees can be called atomic."
   ]
  },
  {
   "cell_type": "markdown",
   "metadata": {},
   "source": [
    "# AdaBoostClassifier\n"
   ]
  },
  {
   "cell_type": "code",
   "execution_count": 115,
   "metadata": {
    "collapsed": false
   },
   "outputs": [
    {
     "name": "stdout",
     "output_type": "stream",
     "text": [
      "Best parameters set found on development set:\n",
      "\n",
      "{'algorithm': 'SAMME', 'n_estimators': 100} \n",
      "\n",
      "Grid scores on development set:\n",
      "\n",
      "Grid scores on development set:\n",
      "0.908 (+/-0.0365) for {'algorithm': 'SAMME', 'n_estimators': 50}\n",
      "Accuracy =  0.857142857143\n",
      "0.905 (+/-0.0329) for {'algorithm': 'SAMME', 'n_estimators': 100}\n",
      "Accuracy =  0.857142857143\n",
      "0.902 (+/-0.0460) for {'algorithm': 'SAMME', 'n_estimators': 150}\n",
      "Accuracy =  0.844155844156\n",
      "0.902 (+/-0.0518) for {'algorithm': 'SAMME', 'n_estimators': 200}\n",
      "Accuracy =  0.844155844156\n",
      "0.898 (+/-0.0636) for {'algorithm': 'SAMME.R', 'n_estimators': 50}\n",
      "Accuracy =  0.831168831169\n"
     ]
    }
   ],
   "source": [
    "from sklearn.ensemble import AdaBoostClassifier as ABC\n",
    "\n",
    "tuned_parameters = [{'algorithm' : ['SAMME', 'SAMME.R'],\n",
    "                     'n_estimators' : [50, 100, 150, 200]}]\n",
    "\n",
    "clf = GridSearchCV(ABC(), tuned_parameters, cv=5)\n",
    "clf.fit(train_X, train_y)\n",
    "print(\"Best parameters set found on development set:\\n\")\n",
    "print(clf.best_params_, '\\n')\n",
    "print(\"Grid scores on development set:\\n\")\n",
    "print(\"Grid scores on development set:\")\n",
    "means = sorted(clf.cv_results_['mean_test_score'], reverse=True)\n",
    "stds = clf.cv_results_['std_test_score']\n",
    "\n",
    "\n",
    "# Getting top 5 parameters\n",
    "for mean, std, params in zip(means[:5], stds, clf.cv_results_['params']):\n",
    "    print(\"%0.3f (+/-%0.04f) for %r\" %(mean, std * 2, params))\n",
    "    abc = ABC(algorithm=params.get('algorithm'),\n",
    "              n_estimators=params.get('n_estimators')) \n",
    "    abc.fit(train_X, train_y)\n",
    "    print('Accuracy = ', accuracy_score(abc.predict(test_X), test_y))"
   ]
  },
  {
   "cell_type": "code",
   "execution_count": 117,
   "metadata": {
    "collapsed": false
   },
   "outputs": [
    {
     "name": "stdout",
     "output_type": "stream",
     "text": [
      "Attribute ranking:\n",
      "1. feature absences_y (0.140000)\n",
      "2. feature Medu (0.080000)\n",
      "3. feature Pstatus (0.060000)\n",
      "4. feature G2_y (0.040000)\n",
      "5. feature sex (0.040000)\n",
      "6. feature G3_x (0.040000)\n",
      "7. feature freetime_y (0.040000)\n",
      "8. feature G1_y (0.040000)\n",
      "9. feature Fedu (0.040000)\n",
      "10. feature failures_y (0.040000)\n",
      "11. feature G2_x (0.040000)\n",
      "12. feature nursery (0.040000)\n",
      "13. feature address (0.020000)\n",
      "14. feature schoolsup_y (0.020000)\n",
      "15. feature traveltime_y (0.020000)\n",
      "16. feature goout_y (0.020000)\n",
      "17. feature paid_x (0.020000)\n",
      "18. feature famrel_y (0.020000)\n",
      "19. feature absences_x (0.020000)\n",
      "20. feature Fjob_other (0.020000)\n",
      "21. feature Mjob_health (0.020000)\n",
      "22. feature G1_x (0.020000)\n",
      "23. feature studytime_y (0.020000)\n",
      "24. feature age (0.020000)\n",
      "25. feature Fjob_services (0.020000)\n",
      "26. feature guardian_y_other (0.020000)\n",
      "27. feature Fjob_teacher (0.020000)\n",
      "28. feature G3_y (0.020000)\n",
      "29. feature famsup_x (0.020000)\n",
      "30. feature failures_x (0.020000)\n"
     ]
    },
    {
     "data": {
      "image/png": "[encoded data removed]",
      "text/plain": [
       "<matplotlib.figure.Figure at 0xdf0046d748>"
      ]
     },
     "metadata": {},
     "output_type": "display_data"
    }
   ],
   "source": [
    "importances = abc.feature_importances_\n",
    "std = np.std([tr.feature_importances_ for tr in abc.estimators_],\n",
    "             axis=0)\n",
    "indices = np.argsort(importances)[::-1]\n",
    "\n",
    "print(\"Attribute ranking:\")\n",
    "\n",
    "for f in range(train_X.shape[1]):\n",
    "    if importances[indices[f]] > 0:\n",
    "        print(\"%d. feature %s (%f)\" \n",
    "              % (f + 1, \n",
    "                 train_X.columns.values[indices[f]], \n",
    "                 importances[indices[f]]))\n",
    "\n",
    "\n",
    "plt.figure(figsize=(10,7))\n",
    "plt.title(\"Feature importances\")\n",
    "plt.bar(range(train_X.shape[1]), importances[indices],\n",
    "       color=\"r\", yerr=std[indices], align=\"center\")\n",
    "plt.xticks(range(train_X.shape[1]), indices)\n",
    "plt.xlim([-1, train_X.shape[1]])\n",
    "plt.show()"
   ]
  },
  {
   "cell_type": "markdown",
   "metadata": {},
   "source": [
    "# Conclusion"
   ]
  },
  {
   "cell_type": "markdown",
   "metadata": {},
   "source": [
    "Well, to sum it up,\n",
    "<br>\n",
    "according to accuracy score, best result was shown by Random Forest and Gradient Boosting - 89%.\n",
    "To pick the best of the best, we compare cross-validation score, which is higher in Random Forest:\n",
    "<br><br>\n",
    "<strong>\n",
    "0.915 (+/-0.0162) for {'n_estimators': 2, 'max_depth': 2, 'criterion': 'gini'}<br>\n",
    "Accuracy =  0.896103896104\n",
    "</strong>\n",
    "### Random Forest is the winner"
   ]
  }
 ],
 "metadata": {
  "anaconda-cloud": {},
  "kernelspec": {
   "display_name": "Python [conda root]",
   "language": "python",
   "name": "conda-root-py"
  },
  "language_info": {
   "codemirror_mode": {
    "name": "ipython",
    "version": 3
   },
   "file_extension": ".py",
   "mimetype": "text/x-python",
   "name": "python",
   "nbconvert_exporter": "python",
   "pygments_lexer": "ipython3",
   "version": "3.5.2"
  }
 },
 "nbformat": 4,
 "nbformat_minor": 1
}
