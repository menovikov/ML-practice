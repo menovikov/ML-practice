{
 "cells": [
  {
   "cell_type": "markdown",
   "metadata": {},
   "source": [
    "## NBA Players 2015-16 position prediction"
   ]
  },
  {
   "cell_type": "markdown",
   "metadata": {},
   "source": [
    "Data below is originally from https://github.com/AddisonGauss/NbaData2015-2016/blob/master/nbasalariespoints.csv\n",
    "<br>\n",
    "Data contains list of top-paid basketball players in NBA for 2015-2016.\n",
    "Columns represent:\n",
    "<ul>\n",
    "<li>Rk: rank</li>\n",
    "<li>Player: player name</li>\n",
    "<li>Pos: position - <strong>target variable</strong></li>\n",
    "<li>Age: players age</li>\n",
    "<li>GM, GP; GS: games played; games started</li>\n",
    "<li>PTS: points</li>\n",
    "<li>FGM, FGA, FG%: field goals made, attempted and percentage</li>\n",
    "<li>FTM, FTA, FT%: free throws made, attempted and percentage</li>\n",
    "<li>3FGM, 3FGA, 3FG%: three-point field goals made, attempted and percentage</li>\n",
    "<li>REB, OREB, DREB: rebounds, offensive rebounds, defensive rebounds</li>\n",
    "<li>AST: assists</li>\n",
    "<li>STL: steals</li>\n",
    "<li>BLK: blocks</li>\n",
    "<li>TEAM - team which player plays for</li>\n",
    "<li>SALARY - player's salary</li>\n",
    "</ul>"
   ]
  },
  {
   "cell_type": "code",
   "execution_count": 84,
   "metadata": {
    "collapsed": false
   },
   "outputs": [],
   "source": [
    "from pandas import Series, DataFrame\n",
    "import pandas as pd\n",
    "import numpy as np\n",
    "import os\n",
    "import matplotlib.pylab as plt\n",
    "from sklearn.cross_validation import train_test_split\n",
    "from sklearn.tree import DecisionTreeClassifier\n",
    "from sklearn.metrics import classification_report\n",
    "import sklearn.metrics\n",
    " # Feature Importance\n",
    "from sklearn import datasets\n",
    "from sklearn.ensemble import ExtraTreesClassifier"
   ]
  },
  {
   "cell_type": "code",
   "execution_count": 61,
   "metadata": {
    "collapsed": false
   },
   "outputs": [
    {
     "data": {
      "text/html": [
       "<div>\n",
       "<style scoped>\n",
       "    .dataframe tbody tr th:only-of-type {\n",
       "        vertical-align: middle;\n",
       "    }\n",
       "\n",
       "    .dataframe tbody tr th {\n",
       "        vertical-align: top;\n",
       "    }\n",
       "\n",
       "    .dataframe thead th {\n",
       "        text-align: right;\n",
       "    }\n",
       "</style>\n",
       "<table border=\"1\" class=\"dataframe\">\n",
       "  <thead>\n",
       "    <tr style=\"text-align: right;\">\n",
       "      <th></th>\n",
       "      <th>Rk</th>\n",
       "      <th>Player</th>\n",
       "      <th>Pos</th>\n",
       "      <th>Age</th>\n",
       "      <th>Tm</th>\n",
       "      <th>G</th>\n",
       "      <th>GS</th>\n",
       "      <th>MP</th>\n",
       "      <th>FG</th>\n",
       "      <th>FGA</th>\n",
       "      <th>...</th>\n",
       "      <th>TRB</th>\n",
       "      <th>AST</th>\n",
       "      <th>STL</th>\n",
       "      <th>BLK</th>\n",
       "      <th>TOV</th>\n",
       "      <th>PF</th>\n",
       "      <th>PS/G▼</th>\n",
       "      <th>RK</th>\n",
       "      <th>TEAM</th>\n",
       "      <th>SALARY</th>\n",
       "    </tr>\n",
       "  </thead>\n",
       "  <tbody>\n",
       "    <tr>\n",
       "      <th>0</th>\n",
       "      <td>1.0</td>\n",
       "      <td>Stephen Curry</td>\n",
       "      <td>PG</td>\n",
       "      <td>27.0</td>\n",
       "      <td>GSW</td>\n",
       "      <td>79.0</td>\n",
       "      <td>79.0</td>\n",
       "      <td>34.2</td>\n",
       "      <td>10.2</td>\n",
       "      <td>20.2</td>\n",
       "      <td>...</td>\n",
       "      <td>5.4</td>\n",
       "      <td>6.7</td>\n",
       "      <td>2.1</td>\n",
       "      <td>0.2</td>\n",
       "      <td>3.3</td>\n",
       "      <td>2.0</td>\n",
       "      <td>30.1</td>\n",
       "      <td>54.0</td>\n",
       "      <td>Golden State Warriors</td>\n",
       "      <td>$11,370,786</td>\n",
       "    </tr>\n",
       "    <tr>\n",
       "      <th>1</th>\n",
       "      <td>2.0</td>\n",
       "      <td>James Harden</td>\n",
       "      <td>SG</td>\n",
       "      <td>26.0</td>\n",
       "      <td>HOU</td>\n",
       "      <td>82.0</td>\n",
       "      <td>82.0</td>\n",
       "      <td>38.1</td>\n",
       "      <td>8.7</td>\n",
       "      <td>19.7</td>\n",
       "      <td>...</td>\n",
       "      <td>6.1</td>\n",
       "      <td>7.5</td>\n",
       "      <td>1.7</td>\n",
       "      <td>0.6</td>\n",
       "      <td>4.6</td>\n",
       "      <td>2.8</td>\n",
       "      <td>29.0</td>\n",
       "      <td>24.0</td>\n",
       "      <td>Houston Rockets</td>\n",
       "      <td>$15,756,438</td>\n",
       "    </tr>\n",
       "    <tr>\n",
       "      <th>2</th>\n",
       "      <td>3.0</td>\n",
       "      <td>Kevin Durant</td>\n",
       "      <td>SF</td>\n",
       "      <td>27.0</td>\n",
       "      <td>OKC</td>\n",
       "      <td>72.0</td>\n",
       "      <td>72.0</td>\n",
       "      <td>35.8</td>\n",
       "      <td>9.7</td>\n",
       "      <td>19.2</td>\n",
       "      <td>...</td>\n",
       "      <td>8.2</td>\n",
       "      <td>5.0</td>\n",
       "      <td>1.0</td>\n",
       "      <td>1.2</td>\n",
       "      <td>3.5</td>\n",
       "      <td>1.9</td>\n",
       "      <td>28.2</td>\n",
       "      <td>7.0</td>\n",
       "      <td>Oklahoma City Thunder</td>\n",
       "      <td>$20,158,622</td>\n",
       "    </tr>\n",
       "    <tr>\n",
       "      <th>3</th>\n",
       "      <td>4.0</td>\n",
       "      <td>DeMarcus Cousins</td>\n",
       "      <td>C</td>\n",
       "      <td>25.0</td>\n",
       "      <td>SAC</td>\n",
       "      <td>65.0</td>\n",
       "      <td>65.0</td>\n",
       "      <td>34.6</td>\n",
       "      <td>9.2</td>\n",
       "      <td>20.5</td>\n",
       "      <td>...</td>\n",
       "      <td>11.5</td>\n",
       "      <td>3.3</td>\n",
       "      <td>1.6</td>\n",
       "      <td>1.4</td>\n",
       "      <td>3.8</td>\n",
       "      <td>3.6</td>\n",
       "      <td>26.9</td>\n",
       "      <td>23.0</td>\n",
       "      <td>Sacramento Kings</td>\n",
       "      <td>$15,851,950</td>\n",
       "    </tr>\n",
       "    <tr>\n",
       "      <th>4</th>\n",
       "      <td>5.0</td>\n",
       "      <td>LeBron James</td>\n",
       "      <td>SF</td>\n",
       "      <td>31.0</td>\n",
       "      <td>CLE</td>\n",
       "      <td>76.0</td>\n",
       "      <td>76.0</td>\n",
       "      <td>35.6</td>\n",
       "      <td>9.7</td>\n",
       "      <td>18.6</td>\n",
       "      <td>...</td>\n",
       "      <td>7.4</td>\n",
       "      <td>6.8</td>\n",
       "      <td>1.4</td>\n",
       "      <td>0.6</td>\n",
       "      <td>3.3</td>\n",
       "      <td>1.9</td>\n",
       "      <td>25.3</td>\n",
       "      <td>2.0</td>\n",
       "      <td>Cleveland Cavaliers</td>\n",
       "      <td>$22,970,500</td>\n",
       "    </tr>\n",
       "  </tbody>\n",
       "</table>\n",
       "<p>5 rows × 33 columns</p>\n",
       "</div>"
      ],
      "text/plain": [
       "    Rk            Player Pos   Age   Tm     G    GS    MP    FG   FGA  \\\n",
       "0  1.0     Stephen Curry  PG  27.0  GSW  79.0  79.0  34.2  10.2  20.2   \n",
       "1  2.0      James Harden  SG  26.0  HOU  82.0  82.0  38.1   8.7  19.7   \n",
       "2  3.0      Kevin Durant  SF  27.0  OKC  72.0  72.0  35.8   9.7  19.2   \n",
       "3  4.0  DeMarcus Cousins   C  25.0  SAC  65.0  65.0  34.6   9.2  20.5   \n",
       "4  5.0      LeBron James  SF  31.0  CLE  76.0  76.0  35.6   9.7  18.6   \n",
       "\n",
       "       ...        TRB  AST  STL  BLK  TOV   PF  PS/G▼    RK  \\\n",
       "0      ...        5.4  6.7  2.1  0.2  3.3  2.0   30.1  54.0   \n",
       "1      ...        6.1  7.5  1.7  0.6  4.6  2.8   29.0  24.0   \n",
       "2      ...        8.2  5.0  1.0  1.2  3.5  1.9   28.2   7.0   \n",
       "3      ...       11.5  3.3  1.6  1.4  3.8  3.6   26.9  23.0   \n",
       "4      ...        7.4  6.8  1.4  0.6  3.3  1.9   25.3   2.0   \n",
       "\n",
       "                    TEAM        SALARY  \n",
       "0  Golden State Warriors  $11,370,786   \n",
       "1        Houston Rockets  $15,756,438   \n",
       "2  Oklahoma City Thunder  $20,158,622   \n",
       "3       Sacramento Kings  $15,851,950   \n",
       "4    Cleveland Cavaliers  $22,970,500   \n",
       "\n",
       "[5 rows x 33 columns]"
      ]
     },
     "execution_count": 61,
     "metadata": {},
     "output_type": "execute_result"
    }
   ],
   "source": [
    "#Reading and cleaning data\n",
    "data = pd.read_csv('nbasalariespoints.csv')\n",
    "del data['Unnamed: 0']\n",
    "del data['Unnamed: 0.1']\n",
    "data.head()"
   ]
  },
  {
   "cell_type": "code",
   "execution_count": 62,
   "metadata": {
    "collapsed": false
   },
   "outputs": [],
   "source": [
    "data.dropna(inplace=True)\n",
    "data.SALARY = data.SALARY.str.replace('$','').str.replace(',','').astype('int')"
   ]
  },
  {
   "cell_type": "code",
   "execution_count": 63,
   "metadata": {
    "collapsed": false
   },
   "outputs": [
    {
     "data": {
      "text/plain": [
       "(345, 33)"
      ]
     },
     "execution_count": 63,
     "metadata": {},
     "output_type": "execute_result"
    }
   ],
   "source": [
    "data.shape"
   ]
  },
  {
   "cell_type": "code",
   "execution_count": 64,
   "metadata": {
    "collapsed": false
   },
   "outputs": [
    {
     "data": {
      "text/plain": [
       "Rk        float64\n",
       "Player     object\n",
       "Pos        object\n",
       "Age       float64\n",
       "Tm         object\n",
       "G         float64\n",
       "GS        float64\n",
       "MP        float64\n",
       "FG        float64\n",
       "FGA       float64\n",
       "FG%       float64\n",
       "3P        float64\n",
       "3PA       float64\n",
       "3P%       float64\n",
       "2P        float64\n",
       "2PA       float64\n",
       "2P%       float64\n",
       "eFG%      float64\n",
       "FT        float64\n",
       "FTA       float64\n",
       "FT%       float64\n",
       "ORB       float64\n",
       "DRB       float64\n",
       "TRB       float64\n",
       "AST       float64\n",
       "STL       float64\n",
       "BLK       float64\n",
       "TOV       float64\n",
       "PF        float64\n",
       "PS/G▼     float64\n",
       "RK        float64\n",
       "TEAM       object\n",
       "SALARY      int32\n",
       "dtype: object"
      ]
     },
     "execution_count": 64,
     "metadata": {},
     "output_type": "execute_result"
    }
   ],
   "source": [
    "data.dtypes"
   ]
  },
  {
   "cell_type": "markdown",
   "metadata": {},
   "source": [
    "We see that most of variable are suitable and are in float format"
   ]
  },
  {
   "cell_type": "code",
   "execution_count": 65,
   "metadata": {
    "collapsed": false
   },
   "outputs": [
    {
     "data": {
      "text/html": [
       "<div>\n",
       "<style scoped>\n",
       "    .dataframe tbody tr th:only-of-type {\n",
       "        vertical-align: middle;\n",
       "    }\n",
       "\n",
       "    .dataframe tbody tr th {\n",
       "        vertical-align: top;\n",
       "    }\n",
       "\n",
       "    .dataframe thead th {\n",
       "        text-align: right;\n",
       "    }\n",
       "</style>\n",
       "<table border=\"1\" class=\"dataframe\">\n",
       "  <thead>\n",
       "    <tr style=\"text-align: right;\">\n",
       "      <th></th>\n",
       "      <th>Rk</th>\n",
       "      <th>Age</th>\n",
       "      <th>G</th>\n",
       "      <th>GS</th>\n",
       "      <th>MP</th>\n",
       "      <th>FG</th>\n",
       "      <th>FGA</th>\n",
       "      <th>FG%</th>\n",
       "      <th>3P</th>\n",
       "      <th>3PA</th>\n",
       "      <th>...</th>\n",
       "      <th>DRB</th>\n",
       "      <th>TRB</th>\n",
       "      <th>AST</th>\n",
       "      <th>STL</th>\n",
       "      <th>BLK</th>\n",
       "      <th>TOV</th>\n",
       "      <th>PF</th>\n",
       "      <th>PS/G▼</th>\n",
       "      <th>RK</th>\n",
       "      <th>SALARY</th>\n",
       "    </tr>\n",
       "  </thead>\n",
       "  <tbody>\n",
       "    <tr>\n",
       "      <th>count</th>\n",
       "      <td>345.000000</td>\n",
       "      <td>345.000000</td>\n",
       "      <td>345.000000</td>\n",
       "      <td>345.000000</td>\n",
       "      <td>345.000000</td>\n",
       "      <td>345.000000</td>\n",
       "      <td>345.000000</td>\n",
       "      <td>345.000000</td>\n",
       "      <td>345.000000</td>\n",
       "      <td>345.000000</td>\n",
       "      <td>...</td>\n",
       "      <td>345.000000</td>\n",
       "      <td>345.000000</td>\n",
       "      <td>345.000000</td>\n",
       "      <td>345.000000</td>\n",
       "      <td>345.000000</td>\n",
       "      <td>345.000000</td>\n",
       "      <td>345.000000</td>\n",
       "      <td>345.000000</td>\n",
       "      <td>345.000000</td>\n",
       "      <td>3.450000e+02</td>\n",
       "    </tr>\n",
       "    <tr>\n",
       "      <th>mean</th>\n",
       "      <td>214.379710</td>\n",
       "      <td>26.544928</td>\n",
       "      <td>58.553623</td>\n",
       "      <td>29.582609</td>\n",
       "      <td>21.642899</td>\n",
       "      <td>3.437391</td>\n",
       "      <td>7.714493</td>\n",
       "      <td>0.439023</td>\n",
       "      <td>0.774783</td>\n",
       "      <td>2.217101</td>\n",
       "      <td>...</td>\n",
       "      <td>2.936232</td>\n",
       "      <td>3.802899</td>\n",
       "      <td>2.093623</td>\n",
       "      <td>0.715072</td>\n",
       "      <td>0.405217</td>\n",
       "      <td>1.289275</td>\n",
       "      <td>1.813043</td>\n",
       "      <td>9.264058</td>\n",
       "      <td>198.582609</td>\n",
       "      <td>5.239291e+06</td>\n",
       "    </tr>\n",
       "    <tr>\n",
       "      <th>std</th>\n",
       "      <td>133.109822</td>\n",
       "      <td>4.437405</td>\n",
       "      <td>21.935374</td>\n",
       "      <td>30.219925</td>\n",
       "      <td>8.781108</td>\n",
       "      <td>2.092364</td>\n",
       "      <td>4.472840</td>\n",
       "      <td>0.064812</td>\n",
       "      <td>0.726193</td>\n",
       "      <td>1.874003</td>\n",
       "      <td>...</td>\n",
       "      <td>1.751741</td>\n",
       "      <td>2.362582</td>\n",
       "      <td>1.862892</td>\n",
       "      <td>0.448776</td>\n",
       "      <td>0.405882</td>\n",
       "      <td>0.810990</td>\n",
       "      <td>0.688044</td>\n",
       "      <td>5.803100</td>\n",
       "      <td>120.719354</td>\n",
       "      <td>5.374730e+06</td>\n",
       "    </tr>\n",
       "    <tr>\n",
       "      <th>min</th>\n",
       "      <td>1.000000</td>\n",
       "      <td>19.000000</td>\n",
       "      <td>2.000000</td>\n",
       "      <td>0.000000</td>\n",
       "      <td>3.000000</td>\n",
       "      <td>0.200000</td>\n",
       "      <td>0.800000</td>\n",
       "      <td>0.200000</td>\n",
       "      <td>0.000000</td>\n",
       "      <td>0.000000</td>\n",
       "      <td>...</td>\n",
       "      <td>0.000000</td>\n",
       "      <td>0.000000</td>\n",
       "      <td>0.000000</td>\n",
       "      <td>0.000000</td>\n",
       "      <td>0.000000</td>\n",
       "      <td>0.000000</td>\n",
       "      <td>0.100000</td>\n",
       "      <td>0.900000</td>\n",
       "      <td>1.000000</td>\n",
       "      <td>4.970900e+04</td>\n",
       "    </tr>\n",
       "    <tr>\n",
       "      <th>25%</th>\n",
       "      <td>101.000000</td>\n",
       "      <td>23.000000</td>\n",
       "      <td>44.000000</td>\n",
       "      <td>2.000000</td>\n",
       "      <td>14.800000</td>\n",
       "      <td>1.800000</td>\n",
       "      <td>4.300000</td>\n",
       "      <td>0.406000</td>\n",
       "      <td>0.200000</td>\n",
       "      <td>0.600000</td>\n",
       "      <td>...</td>\n",
       "      <td>1.700000</td>\n",
       "      <td>2.100000</td>\n",
       "      <td>0.900000</td>\n",
       "      <td>0.400000</td>\n",
       "      <td>0.100000</td>\n",
       "      <td>0.700000</td>\n",
       "      <td>1.300000</td>\n",
       "      <td>4.800000</td>\n",
       "      <td>95.000000</td>\n",
       "      <td>1.335480e+06</td>\n",
       "    </tr>\n",
       "    <tr>\n",
       "      <th>50%</th>\n",
       "      <td>203.000000</td>\n",
       "      <td>26.000000</td>\n",
       "      <td>66.000000</td>\n",
       "      <td>15.000000</td>\n",
       "      <td>21.300000</td>\n",
       "      <td>3.000000</td>\n",
       "      <td>6.900000</td>\n",
       "      <td>0.439000</td>\n",
       "      <td>0.600000</td>\n",
       "      <td>1.800000</td>\n",
       "      <td>...</td>\n",
       "      <td>2.600000</td>\n",
       "      <td>3.300000</td>\n",
       "      <td>1.500000</td>\n",
       "      <td>0.600000</td>\n",
       "      <td>0.300000</td>\n",
       "      <td>1.100000</td>\n",
       "      <td>1.900000</td>\n",
       "      <td>8.100000</td>\n",
       "      <td>193.000000</td>\n",
       "      <td>3.110796e+06</td>\n",
       "    </tr>\n",
       "    <tr>\n",
       "      <th>75%</th>\n",
       "      <td>329.000000</td>\n",
       "      <td>30.000000</td>\n",
       "      <td>76.000000</td>\n",
       "      <td>60.000000</td>\n",
       "      <td>28.800000</td>\n",
       "      <td>4.700000</td>\n",
       "      <td>10.300000</td>\n",
       "      <td>0.473000</td>\n",
       "      <td>1.200000</td>\n",
       "      <td>3.400000</td>\n",
       "      <td>...</td>\n",
       "      <td>3.800000</td>\n",
       "      <td>5.000000</td>\n",
       "      <td>2.600000</td>\n",
       "      <td>0.900000</td>\n",
       "      <td>0.500000</td>\n",
       "      <td>1.700000</td>\n",
       "      <td>2.300000</td>\n",
       "      <td>12.500000</td>\n",
       "      <td>295.000000</td>\n",
       "      <td>7.070730e+06</td>\n",
       "    </tr>\n",
       "    <tr>\n",
       "      <th>max</th>\n",
       "      <td>469.000000</td>\n",
       "      <td>39.000000</td>\n",
       "      <td>82.000000</td>\n",
       "      <td>82.000000</td>\n",
       "      <td>38.100000</td>\n",
       "      <td>10.200000</td>\n",
       "      <td>20.500000</td>\n",
       "      <td>0.644000</td>\n",
       "      <td>5.100000</td>\n",
       "      <td>11.200000</td>\n",
       "      <td>...</td>\n",
       "      <td>9.900000</td>\n",
       "      <td>14.800000</td>\n",
       "      <td>11.700000</td>\n",
       "      <td>2.100000</td>\n",
       "      <td>2.000000</td>\n",
       "      <td>4.600000</td>\n",
       "      <td>3.600000</td>\n",
       "      <td>30.100000</td>\n",
       "      <td>419.000000</td>\n",
       "      <td>2.500000e+07</td>\n",
       "    </tr>\n",
       "  </tbody>\n",
       "</table>\n",
       "<p>8 rows × 29 columns</p>\n",
       "</div>"
      ],
      "text/plain": [
       "               Rk         Age           G          GS          MP          FG  \\\n",
       "count  345.000000  345.000000  345.000000  345.000000  345.000000  345.000000   \n",
       "mean   214.379710   26.544928   58.553623   29.582609   21.642899    3.437391   \n",
       "std    133.109822    4.437405   21.935374   30.219925    8.781108    2.092364   \n",
       "min      1.000000   19.000000    2.000000    0.000000    3.000000    0.200000   \n",
       "25%    101.000000   23.000000   44.000000    2.000000   14.800000    1.800000   \n",
       "50%    203.000000   26.000000   66.000000   15.000000   21.300000    3.000000   \n",
       "75%    329.000000   30.000000   76.000000   60.000000   28.800000    4.700000   \n",
       "max    469.000000   39.000000   82.000000   82.000000   38.100000   10.200000   \n",
       "\n",
       "              FGA         FG%          3P         3PA      ...       \\\n",
       "count  345.000000  345.000000  345.000000  345.000000      ...        \n",
       "mean     7.714493    0.439023    0.774783    2.217101      ...        \n",
       "std      4.472840    0.064812    0.726193    1.874003      ...        \n",
       "min      0.800000    0.200000    0.000000    0.000000      ...        \n",
       "25%      4.300000    0.406000    0.200000    0.600000      ...        \n",
       "50%      6.900000    0.439000    0.600000    1.800000      ...        \n",
       "75%     10.300000    0.473000    1.200000    3.400000      ...        \n",
       "max     20.500000    0.644000    5.100000   11.200000      ...        \n",
       "\n",
       "              DRB         TRB         AST         STL         BLK         TOV  \\\n",
       "count  345.000000  345.000000  345.000000  345.000000  345.000000  345.000000   \n",
       "mean     2.936232    3.802899    2.093623    0.715072    0.405217    1.289275   \n",
       "std      1.751741    2.362582    1.862892    0.448776    0.405882    0.810990   \n",
       "min      0.000000    0.000000    0.000000    0.000000    0.000000    0.000000   \n",
       "25%      1.700000    2.100000    0.900000    0.400000    0.100000    0.700000   \n",
       "50%      2.600000    3.300000    1.500000    0.600000    0.300000    1.100000   \n",
       "75%      3.800000    5.000000    2.600000    0.900000    0.500000    1.700000   \n",
       "max      9.900000   14.800000   11.700000    2.100000    2.000000    4.600000   \n",
       "\n",
       "               PF       PS/G▼          RK        SALARY  \n",
       "count  345.000000  345.000000  345.000000  3.450000e+02  \n",
       "mean     1.813043    9.264058  198.582609  5.239291e+06  \n",
       "std      0.688044    5.803100  120.719354  5.374730e+06  \n",
       "min      0.100000    0.900000    1.000000  4.970900e+04  \n",
       "25%      1.300000    4.800000   95.000000  1.335480e+06  \n",
       "50%      1.900000    8.100000  193.000000  3.110796e+06  \n",
       "75%      2.300000   12.500000  295.000000  7.070730e+06  \n",
       "max      3.600000   30.100000  419.000000  2.500000e+07  \n",
       "\n",
       "[8 rows x 29 columns]"
      ]
     },
     "execution_count": 65,
     "metadata": {},
     "output_type": "execute_result"
    }
   ],
   "source": [
    "data.describe()"
   ]
  },
  {
   "cell_type": "code",
   "execution_count": 66,
   "metadata": {
    "collapsed": false
   },
   "outputs": [
    {
     "data": {
      "text/plain": [
       "array(['PG', 'SG', 'SF', 'C', 'PF', 'PF-C', 'SG-SF'], dtype=object)"
      ]
     },
     "execution_count": 66,
     "metadata": {},
     "output_type": "execute_result"
    }
   ],
   "source": [
    "# Target variable - postition - is in string format\n",
    "# to encode it properly we need to know all unique values\n",
    "data.Pos.unique()"
   ]
  },
  {
   "cell_type": "code",
   "execution_count": 67,
   "metadata": {
    "collapsed": false
   },
   "outputs": [],
   "source": [
    "# Each position is encoding with corresponding integer \n",
    "# to make sure classifier can handle it\n",
    "pos_encoding = {\n",
    "    'PG': 1,\n",
    "    'SG': 2,\n",
    "    'SF': 3,\n",
    "    'C': 4,\n",
    "    'PF': 5,\n",
    "    'PF-C': 6,\n",
    "    'SG-SF': 7\n",
    "}\n",
    "data.Pos = data.Pos.replace(pos_encoding)"
   ]
  },
  {
   "cell_type": "code",
   "execution_count": 74,
   "metadata": {
    "collapsed": false
   },
   "outputs": [],
   "source": [
    "# Predictors are chosen only numerical columns\n",
    "predictors = data[['Age', 'G', 'GS', 'MP', 'FG', 'FGA', 'FG%',\n",
    "       '3P', '3PA', '3P%', '2P', '2PA', '2P%', 'eFG%', 'FT', 'FTA', 'FT%',\n",
    "       'ORB', 'DRB', 'TRB', 'AST', 'STL', 'BLK', 'TOV', 'PF', 'PS/G▼', 'RK']]\n",
    "targets = data.Pos"
   ]
  },
  {
   "cell_type": "code",
   "execution_count": 75,
   "metadata": {
    "collapsed": true
   },
   "outputs": [],
   "source": [
    "X_train, X_test, y_train, y_test = train_test_split(predictors, targets, test_size=.4)"
   ]
  },
  {
   "cell_type": "code",
   "execution_count": 76,
   "metadata": {
    "collapsed": false
   },
   "outputs": [
    {
     "name": "stdout",
     "output_type": "stream",
     "text": [
      "(207, 27) (207,)\n",
      "(138, 27) (138,)\n"
     ]
    }
   ],
   "source": [
    "print(X_train.shape, y_train.shape)\n",
    "print(X_test.shape, y_test.shape)"
   ]
  },
  {
   "cell_type": "markdown",
   "metadata": {},
   "source": [
    "Shapes are suitable for classifier run"
   ]
  },
  {
   "cell_type": "code",
   "execution_count": 77,
   "metadata": {
    "collapsed": false
   },
   "outputs": [],
   "source": [
    "#Build model on training data\n",
    "from sklearn.ensemble import RandomForestClassifier\n",
    "\n",
    "clf = RandomForestClassifier(n_estimators=25)\n",
    "clf.fit(X_train, y_train)\n",
    "y_predicted = clf.predict(X_test)"
   ]
  },
  {
   "cell_type": "code",
   "execution_count": 78,
   "metadata": {
    "collapsed": false
   },
   "outputs": [
    {
     "data": {
      "text/plain": [
       "array([[22,  3,  4,  0,  0,  0],\n",
       "       [ 7, 12,  5,  0,  0,  0],\n",
       "       [ 1, 13,  9,  0,  6,  0],\n",
       "       [ 0,  0,  2, 17,  6,  0],\n",
       "       [ 2,  1,  4,  7, 16,  0],\n",
       "       [ 0,  0,  1,  0,  0,  0]])"
      ]
     },
     "execution_count": 78,
     "metadata": {},
     "output_type": "execute_result"
    }
   ],
   "source": [
    "sklearn.metrics.confusion_matrix(y_test, y_predicted)"
   ]
  },
  {
   "cell_type": "code",
   "execution_count": 79,
   "metadata": {
    "collapsed": false
   },
   "outputs": [
    {
     "data": {
      "text/plain": [
       "0.55072463768115942"
      ]
     },
     "execution_count": 79,
     "metadata": {},
     "output_type": "execute_result"
    }
   ],
   "source": [
    "sklearn.metrics.accuracy_score(y_test, y_predicted)"
   ]
  },
  {
   "cell_type": "markdown",
   "metadata": {},
   "source": [
    "Accuracy score is pretty low. It means that position is poorly predicted by playes characteristics with randomforest algorithm"
   ]
  },
  {
   "cell_type": "code",
   "execution_count": 80,
   "metadata": {
    "collapsed": false
   },
   "outputs": [
    {
     "name": "stdout",
     "output_type": "stream",
     "text": [
      "[ 0.01644793  0.02888872  0.02704459  0.03153741  0.03235152  0.03162036\n",
      "  0.03949905  0.0377495   0.05293429  0.03385813  0.02438184  0.03398063\n",
      "  0.03691984  0.03169868  0.02580346  0.02361338  0.03996535  0.05811208\n",
      "  0.0416578   0.04771493  0.07997737  0.04467299  0.06205026  0.03418774\n",
      "  0.03107778  0.02830954  0.02394485]\n"
     ]
    }
   ],
   "source": [
    "# fit an Extra Trees model to the data\n",
    "model = ExtraTreesClassifier()\n",
    "model.fit(X_train, y_train)\n",
    "# display the relative importance of each attribute\n",
    "print(model.feature_importances_)"
   ]
  },
  {
   "cell_type": "markdown",
   "metadata": {},
   "source": [
    "Each feature is given approximately same weight. It means that there is no correlation between yarget variable and others and no feature describes position perfectly"
   ]
  },
  {
   "cell_type": "code",
   "execution_count": 81,
   "metadata": {
    "collapsed": true
   },
   "outputs": [],
   "source": [
    "\"\"\"\n",
    "Running a different number of trees and see the effect\n",
    " of that on the accuracy of the prediction\n",
    "\"\"\"\n",
    "\n",
    "trees = range(25)\n",
    "accuracy = np.zeros(25)\n",
    "\n",
    "for idx in range(len(trees)):\n",
    "    classifier =RandomForestClassifier(n_estimators=idx + 1)\n",
    "    classifier = classifier.fit(X_train, y_train)\n",
    "    y_predicted = classifier.predict(X_test)\n",
    "    accuracy[idx] = sklearn.metrics.accuracy_score(y_test, y_predicted)"
   ]
  },
  {
   "cell_type": "code",
   "execution_count": 82,
   "metadata": {
    "collapsed": false
   },
   "outputs": [
    {
     "data": {
      "image/png": "[encoded data removed]",
      "text/plain": [
       "<matplotlib.figure.Figure at 0x99b43c3a20>"
      ]
     },
     "metadata": {},
     "output_type": "display_data"
    }
   ],
   "source": [
    "plt.cla()\n",
    "plt.plot(trees, accuracy)\n",
    "plt.show()"
   ]
  },
  {
   "cell_type": "markdown",
   "metadata": {},
   "source": [
    "In conclusion it has to be said that less trees means poor quality of algorithm. However, after 16 trees there is no significant difference between algorithm accuracies."
   ]
  }
 ],
 "metadata": {
  "anaconda-cloud": {},
  "kernelspec": {
   "display_name": "Python [conda root]",
   "language": "python",
   "name": "conda-root-py"
  },
  "language_info": {
   "codemirror_mode": {
    "name": "ipython",
    "version": 3
   },
   "file_extension": ".py",
   "mimetype": "text/x-python",
   "name": "python",
   "nbconvert_exporter": "python",
   "pygments_lexer": "ipython3",
   "version": "3.5.2"
  }
 },
 "nbformat": 4,
 "nbformat_minor": 1
}
